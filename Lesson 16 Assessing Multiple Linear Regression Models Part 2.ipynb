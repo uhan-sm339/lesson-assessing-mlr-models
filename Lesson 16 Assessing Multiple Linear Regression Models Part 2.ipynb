{
 "cells": [
  {
   "cell_type": "markdown",
   "id": "1700d5a6-896d-4535-926e-9aed937db0b2",
   "metadata": {},
   "source": [
    "**SM339 &#x25aa; Applied Statistics &#x25aa; Spring 2024 &#x25aa; Uhan**"
   ]
  },
  {
   "cell_type": "markdown",
   "id": "59a803c7-3562-46a9-8220-c2053adb57b9",
   "metadata": {},
   "source": [
    "# Lesson 16. Assessing Multiple Linear Regression Models &mdash; Part 2"
   ]
  },
  {
   "cell_type": "markdown",
   "id": "68a9ebb0-e386-4783-a3cc-01885ed7560b",
   "metadata": {},
   "source": [
    "## Example"
   ]
  },
  {
   "cell_type": "markdown",
   "id": "76bed6c4-6915-48f0-b364-3e12fd0106ce",
   "metadata": {},
   "source": [
    "After accounting for the size of a house, is its price related to its proximity to bike trails?\n",
    "\n",
    "Use the `RailsTrails` data in the `Stat2Data` package to fit a multiple linear regression model predicting $\\mathit{Price2014}$ (price in thousands of dollars) from $\\mathit{SquareFeet}$ (size of house, in thousands of $\\text{ft}^2$) and $\\mathit{Distance}$ (miles to nearest bike trail).\n",
    "Assume that the regression conditions are met."
   ]
  },
  {
   "cell_type": "code",
   "execution_count": 1,
   "id": "635dcc7a-3470-4e2a-a788-50319ccb8760",
   "metadata": {},
   "outputs": [],
   "source": [
    "library(Stat2Data)\n",
    "data(RailsTrails)"
   ]
  },
  {
   "cell_type": "markdown",
   "id": "1265ede0-ab78-4f0d-a758-b8cde2a2afb7",
   "metadata": {},
   "source": [
    "We fit a multiple linear regression model with $\\mathit{Price2014}$ as the response variable, and $\\mathit{SquareFeet}$ and $\\mathit{Distance}$ as the explanatory variables:"
   ]
  },
  {
   "cell_type": "code",
   "execution_count": 2,
   "id": "7d5760e3-e8be-4e8d-a958-566db953c413",
   "metadata": {},
   "outputs": [
    {
     "data": {
      "text/plain": [
       "\n",
       "Call:\n",
       "lm(formula = Price2014 ~ SquareFeet + Distance, data = RailsTrails)\n",
       "\n",
       "Residuals:\n",
       "    Min      1Q  Median      3Q     Max \n",
       "-152.15  -30.27   -4.14   25.75  337.93 \n",
       "\n",
       "Coefficients:\n",
       "            Estimate Std. Error t value Pr(>|t|)    \n",
       "(Intercept)   78.985     25.607   3.085  0.00263 ** \n",
       "SquareFeet   147.920     12.765  11.588  < 2e-16 ***\n",
       "Distance     -15.788      7.586  -2.081  0.03994 *  \n",
       "---\n",
       "Signif. codes:  0 ‘***’ 0.001 ‘**’ 0.01 ‘*’ 0.05 ‘.’ 0.1 ‘ ’ 1\n",
       "\n",
       "Residual standard error: 65.55 on 101 degrees of freedom\n",
       "Multiple R-squared:  0.6574,\tAdjusted R-squared:  0.6506 \n",
       "F-statistic: 96.89 on 2 and 101 DF,  p-value: < 2.2e-16\n"
      ]
     },
     "metadata": {},
     "output_type": "display_data"
    }
   ],
   "source": [
    "fit <- lm(Price2014 ~ SquareFeet + Distance, data = RailsTrails)\n",
    "summary(fit)"
   ]
  },
  {
   "cell_type": "markdown",
   "id": "09fc5145-8b7c-41ab-9515-1b080291143a",
   "metadata": {},
   "source": [
    "We can compute a 95\\% confidence interval for the coefficient of $\\mathit{Distance}$ using information from the `summary()` output:"
   ]
  },
  {
   "cell_type": "code",
   "execution_count": 3,
   "id": "3104dc8e-4d44-4311-a402-e74cc62f59d6",
   "metadata": {},
   "outputs": [
    {
     "data": {
      "text/html": [
       "-30.8365833884212"
      ],
      "text/latex": [
       "-30.8365833884212"
      ],
      "text/markdown": [
       "-30.8365833884212"
      ],
      "text/plain": [
       "[1] -30.83658"
      ]
     },
     "metadata": {},
     "output_type": "display_data"
    },
    {
     "data": {
      "text/html": [
       "-0.739416611578774"
      ],
      "text/latex": [
       "-0.739416611578774"
      ],
      "text/markdown": [
       "-0.739416611578774"
      ],
      "text/plain": [
       "[1] -0.7394166"
      ]
     },
     "metadata": {},
     "output_type": "display_data"
    }
   ],
   "source": [
    "df = 101\n",
    "alpha = 0.05\n",
    "\n",
    "t <- qt(1 - alpha / 2, df = df)\n",
    "\n",
    "ci_lower <- -15.788 - t * 7.586\n",
    "ci_upper <- -15.788 + t * 7.586\n",
    "\n",
    "ci_lower\n",
    "ci_upper"
   ]
  },
  {
   "cell_type": "markdown",
   "id": "b0344b7b-cb91-40cd-b30c-289a56d178c9",
   "metadata": {},
   "source": [
    "We can also use the R function `confint()` to accomplish the same thing. \n",
    "\n",
    "(In fact, we get confidence intervals for the other coefficients too!)"
   ]
  },
  {
   "cell_type": "code",
   "execution_count": 4,
   "id": "9257c5dc-2e54-440a-9f29-4a9fe2430c73",
   "metadata": {},
   "outputs": [
    {
     "data": {
      "text/html": [
       "<table class=\"dataframe\">\n",
       "<caption>A matrix: 3 × 2 of type dbl</caption>\n",
       "<thead>\n",
       "\t<tr><th></th><th scope=col>2.5 %</th><th scope=col>97.5 %</th></tr>\n",
       "</thead>\n",
       "<tbody>\n",
       "\t<tr><th scope=row>(Intercept)</th><td> 28.18800</td><td>129.7824868</td></tr>\n",
       "\t<tr><th scope=row>SquareFeet</th><td>122.59754</td><td>173.2421396</td></tr>\n",
       "\t<tr><th scope=row>Distance</th><td>-30.83709</td><td> -0.7397968</td></tr>\n",
       "</tbody>\n",
       "</table>\n"
      ],
      "text/latex": [
       "A matrix: 3 × 2 of type dbl\n",
       "\\begin{tabular}{r|ll}\n",
       "  & 2.5 \\% & 97.5 \\%\\\\\n",
       "\\hline\n",
       "\t(Intercept) &  28.18800 & 129.7824868\\\\\n",
       "\tSquareFeet & 122.59754 & 173.2421396\\\\\n",
       "\tDistance & -30.83709 &  -0.7397968\\\\\n",
       "\\end{tabular}\n"
      ],
      "text/markdown": [
       "\n",
       "A matrix: 3 × 2 of type dbl\n",
       "\n",
       "| <!--/--> | 2.5 % | 97.5 % |\n",
       "|---|---|---|\n",
       "| (Intercept) |  28.18800 | 129.7824868 |\n",
       "| SquareFeet | 122.59754 | 173.2421396 |\n",
       "| Distance | -30.83709 |  -0.7397968 |\n",
       "\n"
      ],
      "text/plain": [
       "            2.5 %     97.5 %     \n",
       "(Intercept)  28.18800 129.7824868\n",
       "SquareFeet  122.59754 173.2421396\n",
       "Distance    -30.83709  -0.7397968"
      ]
     },
     "metadata": {},
     "output_type": "display_data"
    }
   ],
   "source": [
    "confint(fit, level = 0.95)"
   ]
  },
  {
   "cell_type": "markdown",
   "id": "1c59006b-2ea7-445c-9ad3-31fc104806cb",
   "metadata": {},
   "source": [
    "Unfortunately, the R function `anova()` does not produce the kind of ANOVA table we want. However, we can compute the individual parts of the ANOVA table with the following code below.\n",
    "\n",
    "Note that `predict(fit)` predicts the response variable values of the observations in the data set used to fit the model; in other words, it computes the $\\hat{y}_i$ values."
   ]
  },
  {
   "cell_type": "code",
   "execution_count": 5,
   "id": "2bef70e2-bc32-4e71-9b8a-03aa016ebddd",
   "metadata": {},
   "outputs": [],
   "source": [
    "y <- RailsTrails$Price2014\n",
    "n <- 104\n",
    "k <- 2\n",
    "\n",
    "SSModel <- sum((predict(fit) - mean(y))^2)\n",
    "SSE <- sum((y - predict(fit))^2)\n",
    "SSTotal <- SSModel + SSE\n",
    "\n",
    "MSModel <- SSModel / k\n",
    "MSE <- SSE / (n - (k + 1))\n",
    "\n",
    "F <- MSModel / MSE"
   ]
  },
  {
   "cell_type": "code",
   "execution_count": 6,
   "id": "55205c90-8d4c-40e4-9741-0c348afc070f",
   "metadata": {},
   "outputs": [
    {
     "data": {
      "text/html": [
       "832587.69641602"
      ],
      "text/latex": [
       "832587.69641602"
      ],
      "text/markdown": [
       "832587.69641602"
      ],
      "text/plain": [
       "[1] 832587.7"
      ]
     },
     "metadata": {},
     "output_type": "display_data"
    },
    {
     "data": {
      "text/html": [
       "433959.478788969"
      ],
      "text/latex": [
       "433959.478788969"
      ],
      "text/markdown": [
       "433959.478788969"
      ],
      "text/plain": [
       "[1] 433959.5"
      ]
     },
     "metadata": {},
     "output_type": "display_data"
    },
    {
     "data": {
      "text/html": [
       "1266547.17520499"
      ],
      "text/latex": [
       "1266547.17520499"
      ],
      "text/markdown": [
       "1266547.17520499"
      ],
      "text/plain": [
       "[1] 1266547"
      ]
     },
     "metadata": {},
     "output_type": "display_data"
    },
    {
     "data": {
      "text/html": [
       "416293.84820801"
      ],
      "text/latex": [
       "416293.84820801"
      ],
      "text/markdown": [
       "416293.84820801"
      ],
      "text/plain": [
       "[1] 416293.8"
      ]
     },
     "metadata": {},
     "output_type": "display_data"
    },
    {
     "data": {
      "text/html": [
       "4296.62850286108"
      ],
      "text/latex": [
       "4296.62850286108"
      ],
      "text/markdown": [
       "4296.62850286108"
      ],
      "text/plain": [
       "[1] 4296.629"
      ]
     },
     "metadata": {},
     "output_type": "display_data"
    },
    {
     "data": {
      "text/html": [
       "96.8884901105144"
      ],
      "text/latex": [
       "96.8884901105144"
      ],
      "text/markdown": [
       "96.8884901105144"
      ],
      "text/plain": [
       "[1] 96.88849"
      ]
     },
     "metadata": {},
     "output_type": "display_data"
    }
   ],
   "source": [
    "SSModel\n",
    "SSE\n",
    "SSTotal\n",
    "\n",
    "MSModel\n",
    "MSE\n",
    "\n",
    "F"
   ]
  }
 ],
 "metadata": {
  "kernelspec": {
   "display_name": "R",
   "language": "R",
   "name": "ir"
  },
  "language_info": {
   "codemirror_mode": "r",
   "file_extension": ".r",
   "mimetype": "text/x-r-source",
   "name": "R",
   "pygments_lexer": "r",
   "version": "4.3.2"
  }
 },
 "nbformat": 4,
 "nbformat_minor": 5
}
